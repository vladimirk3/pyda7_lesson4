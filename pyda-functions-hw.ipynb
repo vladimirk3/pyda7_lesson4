{
 "cells": [
  {
   "cell_type": "markdown",
   "metadata": {},
   "source": [
    "## Задание 1"
   ]
  },
  {
   "cell_type": "markdown",
   "metadata": {},
   "source": [
    "Дан список вида:"
   ]
  },
  {
   "cell_type": "code",
   "execution_count": 5,
   "metadata": {},
   "outputs": [
    {
     "name": "stdout",
     "output_type": "stream",
     "text": [
      "103\n"
     ]
    }
   ],
   "source": [
    "data = [\n",
    "    [13, 25, 23, 34],\n",
    "    [45, 32, 44, 47],\n",
    "    [12, 33, 23, 95],\n",
    "    [13, 53, 34, 35]\n",
    "]\n",
    "\n",
    "def sumdiag(data):\n",
    "    return sum([int(data[i][i]) for i in range(len(data))])\n",
    "\n",
    "print(sumdiag(data))"
   ]
  },
  {
   "cell_type": "markdown",
   "metadata": {},
   "source": [
    "Напишите функцию, которая возвращает сумму элементов на диагонали. Т. е. 13+32+23+35.  \n",
    "Список может быть любой длины, но всегда является \"квадратным\" (количество элементов во вложенных списках равно их количеству)."
   ]
  },
  {
   "cell_type": "markdown",
   "metadata": {},
   "source": [
    "## Задание 2"
   ]
  },
  {
   "cell_type": "markdown",
   "metadata": {},
   "source": [
    "Напишите функцию, возвращающую сумму первых n чисел Фибоначчи (для этого вам может понадобится ознакомиться с рекурсией)."
   ]
  },
  {
   "cell_type": "code",
   "execution_count": 17,
   "metadata": {},
   "outputs": [
    {
     "name": "stdout",
     "output_type": "stream",
     "text": [
      "Сумма первых 7 чисел Фибоначчи: 33\n"
     ]
    }
   ],
   "source": [
    "#можно было вызвать в одной функции два экземпляра отдельно для n и n-1, но моим способом меньше затрат систменых ресурсов\n",
    "m = 7\n",
    "\n",
    "def fibonacci(n):\n",
    "    if n == 1:\n",
    "        return [0, 1]\n",
    "    elif n > 1:\n",
    "        x = fibonacci(n-1)\n",
    "        x.append(sum(x[-2:]))\n",
    "        return x\n",
    "def sumfibonacci(s):\n",
    "    return sum(fibonacci(s))\n",
    "\n",
    "print('Сумма первых ' + str(m) + ' чисел Фибоначчи: ' + str(sumfibonacci(m)))\n"
   ]
  },
  {
   "cell_type": "markdown",
   "metadata": {},
   "source": [
    "## Задание 3\n"
   ]
  },
  {
   "cell_type": "markdown",
   "metadata": {},
   "source": [
    "Напишите функцию, преобразующую произвольный список вида ['2018-01-01', 'yandex', 'cpc', 100] (он может быть любой длины) в словарь {'2018-01-01': {'yandex': {'cpc': 100}}}"
   ]
  },
  {
   "cell_type": "code",
   "execution_count": 77,
   "metadata": {},
   "outputs": [
    {
     "name": "stdout",
     "output_type": "stream",
     "text": [
      "{'2018-01-01': {'yandex': {'cpc': 100}}}\n",
      "{'2018-01-01': {'yandex': {'cpc': 100}}}\n"
     ]
    }
   ],
   "source": [
    "array = ['2018-01-01', 'yandex', 'cpc', 100]\n",
    "#через рекурсию:\n",
    "def arr_to_dict(arr, n=0):\n",
    "    if n == len(arr)-2:\n",
    "        return {arr[-2]:arr[-1]}\n",
    "    else:  \n",
    "        return {arr[n]:arr_to_dict(arr, n+1)}\n",
    "print(arr_to_dict(array))\n",
    "\n",
    "#через итерирование\n",
    "def arr_to_dict_it(arr):\n",
    "    for i in range(len(arr)-2, -1, -1):\n",
    "        if i == (len(arr)-2):\n",
    "            x = {arr[-2]:arr[-1]}\n",
    "        else:\n",
    "            x = {arr[i]:x}\n",
    "    return x\n",
    "print(arr_to_dict_it(array))"
   ]
  },
  {
   "cell_type": "markdown",
   "metadata": {},
   "source": [
    "## Задание 4"
   ]
  },
  {
   "cell_type": "markdown",
   "metadata": {},
   "source": [
    "Вы работаете секретарем и вам постоянно приходят различные документы. Вы должны быть очень внимательны, чтобы не потерять ни один документ. Каталог документов хранится в следующем виде:"
   ]
  },
  {
   "cell_type": "code",
   "execution_count": 186,
   "metadata": {},
   "outputs": [],
   "source": [
    "documents = [\n",
    "    {'type': 'passport', 'number': '2207 876234', 'name': 'Василий Гупкин'},\n",
    "    {'type': 'invoice', 'number': '11-2', 'name': 'Геннадий Покемонов'},\n",
    "    {'type': 'insurance', 'number': '10006', 'name': 'Аристарх Павлов'}\n",
    "]"
   ]
  },
  {
   "cell_type": "markdown",
   "metadata": {},
   "source": [
    "Перечень полок, на которых находятся документы хранится в следующем виде:"
   ]
  },
  {
   "cell_type": "code",
   "execution_count": 185,
   "metadata": {},
   "outputs": [],
   "source": [
    "directories = {\n",
    "    '1': ['2207 876234', '11-2', '5455 028765'],\n",
    "    '2': ['10006', '5400 028765', '5455 002299'],\n",
    "    '3': []\n",
    "} "
   ]
  },
  {
   "cell_type": "markdown",
   "metadata": {},
   "source": [
    "Необходимо реализовать пользовательские команды (внимание! это не название функций, которые должны быть выразительными, а команды, которые вводит пользователь, чтобы получить необходимый результат):\n",
    "  \n",
    "- p – people – команда, которая спросит номер документа и выведет имя человека, которому он принадлежит;  \n",
    "- s – shelf – команда, которая спросит номер документа и выведет номер полки, на которой он находится  \n",
    "Правильно обработайте ситуацию, когда пользователь будет вводить несуществующий документ.\n",
    "- l – list – команда, которая выведет список всех документов в формате   \n",
    "**passport \"2207 876234\" \"Василий Гупкин\"**  \n",
    "- as – add shelf – команда, которая спросит номер новой полки и добавит ее в перечень\n",
    "- d – delete – команда, которая спросит номер документа и удалит его из каталога и из перечня полок. Предусмотрите сценарий, когда пользователь вводит несуществующий документ;  \n",
    "- m – move – команда, которая спросит номер документа и целевую полку и переместит его с текущей полки на целевую. Корректно обработайте кейсы, когда пользователь пытается переместить несуществующий документ или переместить документ на несуществующую полку;  \n",
    "- a – add – команда, которая добавит новый документ в каталог и в перечень полок, спросив его номер, тип, имя владельца и номер полки, на котором он будет храниться."
   ]
  },
  {
   "cell_type": "code",
   "execution_count": 184,
   "metadata": {},
   "outputs": [
    {
     "name": "stdout",
     "output_type": "stream",
     "text": [
      "Введите команду:q\n",
      "Сессия завершена\n"
     ]
    }
   ],
   "source": [
    "documents = [\n",
    "    {'type': 'passport', 'number': '2207 876234', 'name': 'Василий Гупкин'},\n",
    "    {'type': 'invoice', 'number': '11-2', 'name': 'Геннадий Покемонов'},\n",
    "    {'type': 'insurance', 'number': '10006', 'name': 'Аристарх Павлов'}\n",
    "]\n",
    "directories = {\n",
    "    '1': ['2207 876234', '11-2', '5455 028765'],\n",
    "    '2': ['10006', '5400 028765', '5455 002299'],\n",
    "    '3': []\n",
    "}\n",
    "\n",
    "def people():\n",
    "    doc_num = input(\"Для поиска ФИО введите номер документа: \")\n",
    "    print([el['name'] for el in documents if el['number'] == doc_num][0])\n",
    "\n",
    "def shelf():\n",
    "    doc_num = input(\"Для поиска номера полки введите номер документа: \")\n",
    "    print(\"Номер полки: \" + [key for key, value in directories.items() if value.count(cmd) != 0][0])\n",
    "\n",
    "def list_data():\n",
    "    for el in documents:\n",
    "        print(\"**\" + el['type'] + \" '\" + el['number'] + \"' '\" + el['name'] + \"'**\")\n",
    "\n",
    "def add_shelf():\n",
    "    shelf_num = input(\"Введите номер полки: \")\n",
    "    if list(directories.keys()).count(shelf_num) == 0:\n",
    "        directories.update({shelf_num:[]})\n",
    "        print(\"Полка с номером \" + shelf_num + \"добавлена\")\n",
    "    else: \n",
    "        print(\"Полка с таким номером уже существует\")\n",
    "\n",
    "def delete():\n",
    "    doc_num = input(\"Для удаления данных пользователя введите номер документа: \")\n",
    "    del_flag = False\n",
    "    for el in documents:\n",
    "        if el['number'] == doc_num:\n",
    "            doc_num = el['number']\n",
    "            documents.remove(el)\n",
    "            del_flag = True\n",
    "    if del_flag == False: \n",
    "        print(\"Номера такого документа не существует\")\n",
    "    for key, value in directories.items():\n",
    "        if value.count(doc_num) != 0:\n",
    "            directories[key].remove(doc_num)\n",
    "\n",
    "def move():\n",
    "    doc_num = input(\"Для перемещения документа введите номер документа: \")\n",
    "    if sum([value.count(doc_num) for value in directories.values()]) == 0:\n",
    "        print(\"Номера такого документа не существует\")\n",
    "        return\n",
    "    shelf_num_dest = input(\"Введите номер полки, куда нужно переместить документ: \")\n",
    "    if list(directories.keys()).count(shelf_num_dest) != 0:\n",
    "        for key, value in directories.items():\n",
    "            if value.count(doc_num) != 0:\n",
    "                directories[key].remove(doc_num)\n",
    "        directories[shelf_num_dest].append(doc_num)\n",
    "    else: \n",
    "        print(\"Полка с номером \" + shelf_num_dest + \" не существует\")\n",
    "\n",
    "def add():\n",
    "    doc_type = input(\"Для добавления информации введите тип документа: \")\n",
    "    doc_num = input(\"Для добавления информации введите номер документа: \")\n",
    "    for el in documents:\n",
    "        if el['number'] == doc_num and el['type'] == doc_type: \n",
    "            print(\"Пользователь с таким номером и типом документа уже существует\")\n",
    "            return    \n",
    "    doc_name = input(\"Введите имя пользователя: \")\n",
    "    shelf_num = input(\"Введите номер полки, на которой хотите разместить документ: \")\n",
    "    if list(directories.keys()).count(shelf_num) == 0:\n",
    "        print(\"Полки с таким номером не существует\")\n",
    "        return\n",
    "    documents.append({'type': doc_type, 'number': doc_num, 'name': doc_name})\n",
    "    directories[shelf_num].append(doc_num)\n",
    "    print(documents)\n",
    "    print(directories)\n",
    "    \n",
    "def main():\n",
    "    cmd = ''\n",
    "    while cmd != 'q':\n",
    "        cmd = input(\"Введите команду:\")\n",
    "        if cmd == 'p':\n",
    "            people()\n",
    "        elif cmd == 's': \n",
    "            shelf()\n",
    "        elif cmd == 'l': \n",
    "            list_data()\n",
    "        elif cmd == 'as':\n",
    "            add_shelf()\n",
    "        elif cmd == 'd':\n",
    "            delete()\n",
    "        elif cmd == 'm': \n",
    "            move()\n",
    "        elif cmd == 'a':\n",
    "            add()\n",
    "        elif cmd == 'q':\n",
    "            print('Сессия завершена')\n",
    "            break\n",
    "        else:\n",
    "            print(\"Неправильная команда\")\n",
    "        \n",
    "main()"
   ]
  },
  {
   "cell_type": "code",
   "execution_count": null,
   "metadata": {},
   "outputs": [],
   "source": []
  },
  {
   "cell_type": "code",
   "execution_count": null,
   "metadata": {},
   "outputs": [],
   "source": []
  }
 ],
 "metadata": {
  "kernelspec": {
   "display_name": "Python 3",
   "language": "python",
   "name": "python3"
  },
  "language_info": {
   "codemirror_mode": {
    "name": "ipython",
    "version": 3
   },
   "file_extension": ".py",
   "mimetype": "text/x-python",
   "name": "python",
   "nbconvert_exporter": "python",
   "pygments_lexer": "ipython3",
   "version": "3.7.4"
  }
 },
 "nbformat": 4,
 "nbformat_minor": 2
}
